{
 "cells": [
  {
   "cell_type": "code",
   "execution_count": 1,
   "metadata": {},
   "outputs": [],
   "source": [
    "import matplotlib.pyplot as plt, numpy as np, pickle, os, random\n",
    "import game as g, neuralnetworks as nn"
   ]
  },
  {
   "cell_type": "code",
   "execution_count": 2,
   "metadata": {},
   "outputs": [],
   "source": [
    "results_path, experiment_no = os.getcwd()+'/Results', 1"
   ]
  },
  {
   "cell_type": "code",
   "execution_count": 3,
   "metadata": {},
   "outputs": [
    {
     "name": "stdout",
     "output_type": "stream",
     "text": [
      "Runs: 5\n",
      "Bin size: 10\n"
     ]
    }
   ],
   "source": [
    "with (open(os.path.join(results_path, f'{experiment_no}. Metadata.meta'), 'rb')) as open_file:\n",
    "    while True:\n",
    "        try:\n",
    "            meta = pickle.load(open_file)\n",
    "            print(f'Runs: {meta[\"runs\"]}\\nBin size: {meta[\"bin_size\"]}')\n",
    "        except EOFError:\n",
    "            break\n",
    "open_file.close()"
   ]
  },
  {
   "cell_type": "code",
   "execution_count": 4,
   "metadata": {
    "scrolled": true
   },
   "outputs": [
    {
     "name": "stdout",
     "output_type": "stream",
     "text": [
      "Epochs: 1000\n",
      "Reps: 1000\n",
      "Network: [256, 256, 256]\n",
      "Updates per Epoch: 25\n",
      "Learning Rate: 1e-05\n",
      "Min Epsilon: 0.01\n",
      "Epsilon Decay Factor: 0.995\n",
      "SGD: True\n"
     ]
    }
   ],
   "source": [
    "with (open(os.path.join(results_path, f'{experiment_no}. Parameters.pth'), 'rb')) as open_file:\n",
    "    while True:\n",
    "        try:\n",
    "            parameters = pickle.load(open_file)\n",
    "            print(f'Epochs: {parameters[\"epochs\"]}\\nReps: {parameters[\"games_per_epoch\"]}\\nNetwork: {parameters[\"network\"]}\\nUpdates per Epoch: {parameters[\"updates_per_epoch\"]}\\nLearning Rate: {parameters[\"learning_rate\"]}\\nMin Epsilon: {parameters[\"min_epsilon\"]}\\nEpsilon Decay Factor: {parameters[\"epsilon_decay_factor\"]}\\nSGD: {parameters[\"use_SGD\"]}')\n",
    "        except EOFError:\n",
    "            break\n",
    "open_file.close()"
   ]
  },
  {
   "cell_type": "code",
   "execution_count": 7,
   "metadata": {},
   "outputs": [],
   "source": [
    "Qnets, outputs = [], []\n",
    "for i in range(meta['runs']):\n",
    "    with (open(os.path.join(results_path, f'{experiment_no}. Qnet - Run {i+1}.pt'), 'rb')) as open_file:\n",
    "        while True:\n",
    "            try:\n",
    "                Qnet = pickle.load(open_file)\n",
    "                Qnets.append(Qnet)\n",
    "            except EOFError:\n",
    "                break\n",
    "    open_file.close()\n",
    "    with (open(os.path.join(results_path, f'{experiment_no}. Outputs - Run {i+1}.pth'), 'rb')) as open_file:\n",
    "        while True:\n",
    "            try:\n",
    "                output = pickle.load(open_file)\n",
    "                outputs.append(output)\n",
    "            except EOFError:\n",
    "                break\n",
    "    open_file.close()"
   ]
  },
  {
   "cell_type": "code",
   "execution_count": 8,
   "metadata": {},
   "outputs": [
    {
     "data": {
      "text/plain": [
       "93818.67"
      ]
     },
     "execution_count": 8,
     "metadata": {},
     "output_type": "execute_result"
    }
   ],
   "source": [
    "Qnets[0].training_time"
   ]
  },
  {
   "cell_type": "code",
   "execution_count": 13,
   "metadata": {},
   "outputs": [
    {
     "data": {
      "text/plain": [
       "NN(\n",
       "  (model): Sequential(\n",
       "    (0): Linear(in_features=48, out_features=256, bias=True)\n",
       "    (1): Tanh()\n",
       "    (2): Linear(in_features=256, out_features=256, bias=True)\n",
       "    (3): Tanh()\n",
       "    (4): Linear(in_features=256, out_features=256, bias=True)\n",
       "    (5): Tanh()\n",
       "    (6): Linear(in_features=256, out_features=1, bias=True)\n",
       "  )\n",
       ")"
      ]
     },
     "execution_count": 13,
     "metadata": {},
     "output_type": "execute_result"
    }
   ],
   "source": [
    "Qnets[0]"
   ]
  },
  {
   "cell_type": "code",
   "execution_count": 16,
   "metadata": {},
   "outputs": [
    {
     "data": {
      "text/plain": [
       "0"
      ]
     },
     "execution_count": 16,
     "metadata": {},
     "output_type": "execute_result"
    }
   ],
   "source": [
    "import torch\n",
    "torch.cuda.current_device()"
   ]
  },
  {
   "cell_type": "code",
   "execution_count": 17,
   "metadata": {
    "scrolled": true
   },
   "outputs": [
    {
     "data": {
      "text/plain": [
       "NN(\n",
       "  (model): Sequential(\n",
       "    (0): Linear(in_features=48, out_features=256, bias=True)\n",
       "    (1): Tanh()\n",
       "    (2): Linear(in_features=256, out_features=256, bias=True)\n",
       "    (3): Tanh()\n",
       "    (4): Linear(in_features=256, out_features=256, bias=True)\n",
       "    (5): Tanh()\n",
       "    (6): Linear(in_features=256, out_features=1, bias=True)\n",
       "  )\n",
       ")"
      ]
     },
     "execution_count": 17,
     "metadata": {},
     "output_type": "execute_result"
    }
   ],
   "source": [
    "Qnets[0].to(torch.device('cuda' if torch.cuda.is_available() else 'cpu')).double()"
   ]
  },
  {
   "cell_type": "code",
   "execution_count": 23,
   "metadata": {},
   "outputs": [
    {
     "data": {
      "text/plain": [
       "False"
      ]
     },
     "execution_count": 23,
     "metadata": {},
     "output_type": "execute_result"
    }
   ],
   "source": [
    "Qnets[0].to('cpu').double()\n",
    "next(Qnets[0].parameters()).is_cuda"
   ]
  },
  {
   "cell_type": "code",
   "execution_count": 9,
   "metadata": {},
   "outputs": [],
   "source": [
    "def plot_results(win_rate, bin_size):\n",
    "    plt.figure(figsize=(5, 4))\n",
    "    plt.gca().set(title=f'Highest win rate during training: {np.max(win_rate)}\\nWin rate at training end: {win_rate[-1]}', xlabel='Epoch', ylabel='Averaged Win %', ylim=(50, 100)) # Set standard range for y\n",
    "    plt.plot(range(bin_size, bin_size+len(win_rate)), win_rate)\n",
    "    return"
   ]
  },
  {
   "cell_type": "code",
   "execution_count": 10,
   "metadata": {
    "scrolled": false
   },
   "outputs": [
    {
     "data": {
      "image/png": "[encoded data removed]",
      "text/plain": [
       "<Figure size 360x288 with 1 Axes>"
      ]
     },
     "metadata": {
      "needs_background": "light"
     },
     "output_type": "display_data"
    },
    {
     "data": {
      "image/png": "[encoded data removed]",
      "text/plain": [
       "<Figure size 360x288 with 1 Axes>"
      ]
     },
     "metadata": {
      "needs_background": "light"
     },
     "output_type": "display_data"
    },
    {
     "data": {
      "image/png": "[encoded data removed]",
      "text/plain": [
       "<Figure size 360x288 with 1 Axes>"
      ]
     },
     "metadata": {
      "needs_background": "light"
     },
     "output_type": "display_data"
    }
   ],
   "source": [
    "for output in outputs:\n",
    "    plot_results(output['win_rate'], meta['bin_size'])"
   ]
  },
  {
   "cell_type": "code",
   "execution_count": 11,
   "metadata": {},
   "outputs": [],
   "source": [
    "def plot_wins(win_rates, bin_size):\n",
    "    plt.figure(figsize=(5, 4))\n",
    "    plt.gca().set(title='Wins', xlabel='Epoch', ylabel='Win % Range', ylim=(50, 100)) # Set standard range for y\n",
    "    plt.plot(range(bin_size, bin_size+win_rates.shape[1]), np.mean(win_rates, axis=0)) # Plotting win rate averaged over 5 runs\n",
    "    plt.fill_between(range(bin_size, bin_size+win_rates.shape[1]), np.min(win_rates, axis=0), np.max(win_rates, axis=0), color='orange', alpha=0.3) # Plotting minimum and maximum values for individual runs\n",
    "    plt.savefig('testing.png')\n",
    "    return"
   ]
  },
  {
   "cell_type": "code",
   "execution_count": 12,
   "metadata": {},
   "outputs": [
    {
     "data": {
      "image/png": "[encoded data removed]",
      "text/plain": [
       "<Figure size 360x288 with 1 Axes>"
      ]
     },
     "metadata": {
      "needs_background": "light"
     },
     "output_type": "display_data"
    }
   ],
   "source": [
    "plot_wins(np.array([output['win_rate'] for output in outputs]).reshape(meta['runs'], -1), meta['bin_size'])"
   ]
  },
  {
   "cell_type": "code",
   "execution_count": 10,
   "metadata": {},
   "outputs": [],
   "source": [
    "def move_to_onehot(move):\n",
    "    onehot_move = [0]*24\n",
    "    onehot_move[move] = 1\n",
    "    return onehot_move"
   ]
  },
  {
   "cell_type": "code",
   "execution_count": 11,
   "metadata": {},
   "outputs": [],
   "source": [
    "def epsilon_greedy(state, valid_moves_F, Qnet, epsilon, turn):\n",
    "    moves = g.valid_moves(state)\n",
    "    if np.random.uniform() < epsilon: # Random move\n",
    "        move = moves[random.sample(range(len(moves)), 1)[0]] # Random opponent\n",
    "    else: # Greedy move\n",
    "        Qs = [Qnet.use_pytorch(np.array(state + move_to_onehot(m)))[0] if Qnet.processed is True else 0 for m in moves] # Q values for deciding greedy move\n",
    "        move = moves[np.argmax(Qs)] if turn else moves[random.sample(range(len(moves)), 1)[0]] # Random opponent\n",
    "    Q = Qnet.use_pytorch(np.array(state + move_to_onehot(move)))[0] if Qnet.processed is True else 0\n",
    "    return move, Q"
   ]
  },
  {
   "cell_type": "code",
   "execution_count": 12,
   "metadata": {},
   "outputs": [],
   "source": [
    "#Qnets[0].state_dict()"
   ]
  },
  {
   "cell_type": "code",
   "execution_count": 13,
   "metadata": {},
   "outputs": [],
   "source": [
    "#print(Qnets[0].state_dict()['model.0.weight'].detach().cpu().numpy()[0])\n",
    "#print(Qnets[0].state_dict()['model.0.weight'].detach().cpu().numpy()[0].shape)"
   ]
  },
  {
   "cell_type": "code",
   "execution_count": 14,
   "metadata": {},
   "outputs": [
    {
     "name": "stdout",
     "output_type": "stream",
     "text": [
      "•   •   •   •\n",
      "\n",
      "•   •   •   •\n",
      "\n",
      "•   •   •   •\n",
      "\n",
      "•   •   •   •\n"
     ]
    }
   ],
   "source": [
    "state, turn = [0]*24, True\n",
    "g.print_game(state)"
   ]
  },
  {
   "cell_type": "code",
   "execution_count": 15,
   "metadata": {},
   "outputs": [
    {
     "name": "stdout",
     "output_type": "stream",
     "text": [
      "•   •   •   •\n",
      "    |\n",
      "•   •   •   •\n",
      "\n",
      "•   •   •   •\n",
      "\n",
      "•   •   •   •\n"
     ]
    }
   ],
   "source": [
    "move, _ = epsilon_greedy(state, g.valid_moves, Qnets[1], 0, turn)\n",
    "g.print_game(g.make_move(state, move))"
   ]
  },
  {
   "cell_type": "code",
   "execution_count": 16,
   "metadata": {},
   "outputs": [
    {
     "name": "stdout",
     "output_type": "stream",
     "text": [
      "•---•---•---•\n",
      "|           |\n",
      "•---•---•   •\n",
      "            |\n",
      "•   •   •---•\n",
      "\n",
      "•   •   •   •\n"
     ]
    }
   ],
   "source": [
    "state, turn = [1, 1, 1, 1, 1, 0, 0, 0, 1, 0, 0, 0, 1, 0, 0, 1, 0, 0, 0, 1, 0, 0, 0, 0], True\n",
    "g.print_game(state)"
   ]
  },
  {
   "cell_type": "code",
   "execution_count": 17,
   "metadata": {},
   "outputs": [
    {
     "name": "stdout",
     "output_type": "stream",
     "text": [
      "•---•---•---•\n",
      "|   |       |\n",
      "•---•---•   •\n",
      "            |\n",
      "•   •   •---•\n",
      "\n",
      "•   •   •   •\n"
     ]
    }
   ],
   "source": [
    "move, _ = epsilon_greedy(state, g.valid_moves, Qnets[1], 0, turn)\n",
    "state = g.make_move(state, move)\n",
    "g.print_game(g.make_move(state, move))"
   ]
  },
  {
   "cell_type": "code",
   "execution_count": 18,
   "metadata": {},
   "outputs": [
    {
     "name": "stdout",
     "output_type": "stream",
     "text": [
      "•---•---•---•\n",
      "|   |       |\n",
      "•---•---•   •\n",
      "|           |\n",
      "•   •   •---•\n",
      "\n",
      "•   •   •   •\n"
     ]
    }
   ],
   "source": [
    "move, _ = epsilon_greedy(state, g.valid_moves, Qnets[1], 0, turn)\n",
    "g.print_game(g.make_move(state, move))"
   ]
  },
  {
   "cell_type": "code",
   "execution_count": 19,
   "metadata": {},
   "outputs": [
    {
     "name": "stdout",
     "output_type": "stream",
     "text": [
      "•---•   •   •\n",
      "|   |   |   |\n",
      "•   •---•   •\n",
      "|   |       |\n",
      "•   •   •---•\n",
      "|   |\n",
      "•   •---•---•\n"
     ]
    }
   ],
   "source": [
    "state, turn = [1, 0, 0, 0, 1, 0, 0, 0, 1, 0, 1, 1, 1, 1, 1, 1, 1, 1, 0, 1, 1, 1, 0, 0], True\n",
    "g.print_game(state)"
   ]
  },
  {
   "cell_type": "code",
   "execution_count": 20,
   "metadata": {},
   "outputs": [],
   "source": [
    "move, _ = epsilon_greedy(state, g.valid_moves, Qnets[1], 0, turn)"
   ]
  },
  {
   "cell_type": "code",
   "execution_count": 21,
   "metadata": {},
   "outputs": [
    {
     "name": "stdout",
     "output_type": "stream",
     "text": [
      "•---•   •   •\n",
      "|   |   |   |\n",
      "•   •---•   •\n",
      "|   |       |\n",
      "•   •   •---•\n",
      "|   |   |\n",
      "•   •---•---•\n"
     ]
    }
   ],
   "source": [
    "g.print_game(g.make_move(state, move))"
   ]
  },
  {
   "cell_type": "code",
   "execution_count": null,
   "metadata": {
    "scrolled": false
   },
   "outputs": [],
   "source": [
    "num_tests, runs, num_games = 3, 5, 10 # Meta parameters\n",
    "testing = []\n",
    "for i in range(num_tests):\n",
    "    print(f'Testing => Test {i+1}')\n",
    "    percentages = []\n",
    "    for j in range(runs):\n",
    "        outcomes = []\n",
    "        for k in range(num_games):\n",
    "            state, boxes, score, done = [0]*24, [0]*9, [0]*2, False\n",
    "            turn = True\n",
    "            move, _ = epsilon_greedy(state, g.valid_moves, Qnets[1], 0, turn)\n",
    "            while not done:\n",
    "                state_next = g.make_move(state, move)\n",
    "                created, boxes = g.box_created(state_next, boxes)\n",
    "                if created > 0:\n",
    "                    if turn:\n",
    "                        score[0] += created\n",
    "                    else:\n",
    "                        score[1] += created\n",
    "                else:\n",
    "                    turn = not turn\n",
    "                if 0 not in state_next:\n",
    "                    r = 1 if score[0] > score[1] else -1\n",
    "                    outcome, done = r, True\n",
    "                    move_next, Qnext = -1, 0\n",
    "                else:\n",
    "                    move_next, Qnext = epsilon_greedy(state_next, g.valid_moves, Qnets[1], 0, turn)\n",
    "                state, move = state_next, move_next\n",
    "            outcomes.append(outcome)\n",
    "        percentages.append(sum(outcomes[k] == 1 for k in range(len(outcomes)))/num_games*100)\n",
    "    testing.append(sum(percentages)/runs)\n",
    "    print(f'Finished test {i+1}; Percent: {testing[-1]}')"
   ]
  },
  {
   "cell_type": "code",
   "execution_count": 22,
   "metadata": {},
   "outputs": [],
   "source": [
    "results_path = os.getcwd()+'/Results-v2'"
   ]
  },
  {
   "cell_type": "code",
   "execution_count": 23,
   "metadata": {},
   "outputs": [
    {
     "data": {
      "text/plain": [
       "(None, None, None, None)"
      ]
     },
     "execution_count": 23,
     "metadata": {},
     "output_type": "execute_result"
    }
   ],
   "source": [
    "with (open(os.path.join(results_path, 'Metadata_best.meta'), 'rb')) as meta_file, (open(os.path.join(results_path, 'Parameters_best.pth'), 'rb')) as params_file, (open(os.path.join(results_path, 'Qnet_best.pt'), 'rb')) as Qnet_file, (open(os.path.join(results_path, 'Outputs_best.pth'), 'rb')) as output_file: # Read from stored files\n",
    "    while True:\n",
    "        try:\n",
    "            meta_best, parameters_best, Qnet_best, output_best = pickle.load(meta_file), pickle.load(params_file), pickle.load(Qnet_file), pickle.load(output_file)\n",
    "        except EOFError:\n",
    "            break\n",
    "meta_file.close(), params_file.close(), Qnet_file.close(), output_file.close()"
   ]
  },
  {
   "cell_type": "code",
   "execution_count": 24,
   "metadata": {},
   "outputs": [],
   "source": [
    "def epsilon_greedy_2(state, valid_moves_F, Qnet, Qnet_2, epsilon, turn):\n",
    "    moves = valid_moves_F(state)\n",
    "    Qs = [Qnet.use_pytorch(np.array(state + move_to_onehot(m)))[0] if Qnet.processed is True else 0 for m in moves] # Q values for Qnet\n",
    "    Q_2s = [Qnet_2.use_pytorch(np.array(state + move_to_onehot(m)))[0] for m in moves] # Q values for Qnet_2\n",
    "    if np.random.uniform() < epsilon: # Random move\n",
    "        move = moves[random.sample(range(len(moves)), 1)[0]] if not turn else moves[np.argmax(Q_2s)] # Intelligent opponent\n",
    "    else: # Greedy move\n",
    "        move = moves[np.argmin(Qs)] if not turn else moves[np.argmax(Q_2s)] # Intelligent opponent\n",
    "    return move, Qnet.use_pytorch(np.array(state + move_to_onehot(move)))[0] if not turn else Qnet_2.use_pytorch(np.array(state + move_to_onehot(move)))[0]"
   ]
  },
  {
   "cell_type": "code",
   "execution_count": 25,
   "metadata": {
    "scrolled": false
   },
   "outputs": [
    {
     "name": "stdout",
     "output_type": "stream",
     "text": [
      "Testing => Test 1\n",
      "Finished test 1; Percent: 100.0\n",
      "Testing => Test 2\n",
      "Finished test 2; Percent: 100.0\n",
      "Testing => Test 3\n",
      "Finished test 3; Percent: 100.0\n"
     ]
    }
   ],
   "source": [
    "num_tests, runs, num_games = 3, 5, 10 # Meta parameters\n",
    "testing = []\n",
    "for i in range(num_tests):\n",
    "    print(f'Testing => Test {i+1}')\n",
    "    percentages = []\n",
    "    for j in range(runs):\n",
    "        outcomes = []\n",
    "        for k in range(num_games):\n",
    "            state, boxes, score, done = [0]*24, [0]*9, [0]*2, False\n",
    "            turn = True\n",
    "            move, _ = epsilon_greedy_2(state, g.valid_moves, Qnet_best, Qnets[1], 0, turn)\n",
    "            while not done:\n",
    "                state_next = g.make_move(state, move)\n",
    "                created, boxes = g.box_created(state_next, boxes)\n",
    "                if created > 0:\n",
    "                    if turn:\n",
    "                        score[0] += created\n",
    "                    else:\n",
    "                        score[1] += created\n",
    "                else:\n",
    "                    turn = not turn\n",
    "                if 0 not in state_next:\n",
    "                    r = 1 if score[0] > score[1] else -1\n",
    "                    outcome, done = r, True\n",
    "                    move_next, Qnext = -1, 0\n",
    "                else:\n",
    "                    move_next, Qnext = epsilon_greedy_2(state_next, g.valid_moves, Qnet_best, Qnets[1], 0, turn)\n",
    "                state, move = state_next, move_next\n",
    "            outcomes.append(outcome)\n",
    "        #print(outcomes)\n",
    "        percentages.append(sum(outcomes[k] == -1 for k in range(len(outcomes)))/num_games*100)\n",
    "    testing.append(sum(percentages)/runs)\n",
    "    print(f'Finished test {i+1}; Percent: {testing[-1]}')"
   ]
  },
  {
   "cell_type": "code",
   "execution_count": null,
   "metadata": {},
   "outputs": [],
   "source": [
    "def epsilon_greedy_3(state, valid_moves_F, Qnet, epsilon, turn):\n",
    "    moves = valid_moves_F(state)\n",
    "    Qs = [Qnet.use_pytorch(np.array(state + move_to_onehot(m)))[0] if Qnet.processed is True else 0 for m in moves] # Q values for Qnet\n",
    "    if np.random.uniform() < epsilon: # Random move\n",
    "        move = moves[random.sample(range(len(moves)), 1)[0]] # Random opponent\n",
    "    else: # Greedy move\n",
    "        move = moves[np.argmin(Qs)] if not turn else moves[random.sample(range(len(moves)), 1)[0]] # Random opponent\n",
    "    return move, Qnet.use_pytorch(np.array(state + move_to_onehot(move)))[0]"
   ]
  },
  {
   "cell_type": "code",
   "execution_count": 26,
   "metadata": {},
   "outputs": [
    {
     "name": "stdout",
     "output_type": "stream",
     "text": [
      "Testing => Test 1\n"
     ]
    },
    {
     "ename": "NameError",
     "evalue": "name 'epsilon_greedy_3' is not defined",
     "output_type": "error",
     "traceback": [
      "\u001b[0;31m---------------------------------------------------------------------------\u001b[0m",
      "\u001b[0;31mNameError\u001b[0m                                 Traceback (most recent call last)",
      "\u001b[0;32m<ipython-input-26-d012edc46e44>\u001b[0m in \u001b[0;36m<module>\u001b[0;34m\u001b[0m\n\u001b[1;32m      9\u001b[0m             \u001b[0mstate\u001b[0m\u001b[0;34m,\u001b[0m \u001b[0mboxes\u001b[0m\u001b[0;34m,\u001b[0m \u001b[0mscore\u001b[0m\u001b[0;34m,\u001b[0m \u001b[0mdone\u001b[0m \u001b[0;34m=\u001b[0m \u001b[0;34m[\u001b[0m\u001b[0;36m0\u001b[0m\u001b[0;34m]\u001b[0m\u001b[0;34m*\u001b[0m\u001b[0;36m24\u001b[0m\u001b[0;34m,\u001b[0m \u001b[0;34m[\u001b[0m\u001b[0;36m0\u001b[0m\u001b[0;34m]\u001b[0m\u001b[0;34m*\u001b[0m\u001b[0;36m9\u001b[0m\u001b[0;34m,\u001b[0m \u001b[0;34m[\u001b[0m\u001b[0;36m0\u001b[0m\u001b[0;34m]\u001b[0m\u001b[0;34m*\u001b[0m\u001b[0;36m2\u001b[0m\u001b[0;34m,\u001b[0m \u001b[0;32mFalse\u001b[0m\u001b[0;34m\u001b[0m\u001b[0;34m\u001b[0m\u001b[0m\n\u001b[1;32m     10\u001b[0m             \u001b[0mturn\u001b[0m \u001b[0;34m=\u001b[0m \u001b[0;32mTrue\u001b[0m\u001b[0;34m\u001b[0m\u001b[0;34m\u001b[0m\u001b[0m\n\u001b[0;32m---> 11\u001b[0;31m             \u001b[0mmove\u001b[0m\u001b[0;34m,\u001b[0m \u001b[0m_\u001b[0m \u001b[0;34m=\u001b[0m \u001b[0mepsilon_greedy_3\u001b[0m\u001b[0;34m(\u001b[0m\u001b[0mstate\u001b[0m\u001b[0;34m,\u001b[0m \u001b[0mg\u001b[0m\u001b[0;34m.\u001b[0m\u001b[0mvalid_moves\u001b[0m\u001b[0;34m,\u001b[0m \u001b[0mQnet_best\u001b[0m\u001b[0;34m,\u001b[0m \u001b[0;36m0\u001b[0m\u001b[0;34m,\u001b[0m \u001b[0mturn\u001b[0m\u001b[0;34m)\u001b[0m\u001b[0;34m\u001b[0m\u001b[0;34m\u001b[0m\u001b[0m\n\u001b[0m\u001b[1;32m     12\u001b[0m             \u001b[0;32mwhile\u001b[0m \u001b[0;32mnot\u001b[0m \u001b[0mdone\u001b[0m\u001b[0;34m:\u001b[0m\u001b[0;34m\u001b[0m\u001b[0;34m\u001b[0m\u001b[0m\n\u001b[1;32m     13\u001b[0m                 \u001b[0mstate_next\u001b[0m \u001b[0;34m=\u001b[0m \u001b[0mg\u001b[0m\u001b[0;34m.\u001b[0m\u001b[0mmake_move\u001b[0m\u001b[0;34m(\u001b[0m\u001b[0mstate\u001b[0m\u001b[0;34m,\u001b[0m \u001b[0mmove\u001b[0m\u001b[0;34m)\u001b[0m\u001b[0;34m\u001b[0m\u001b[0;34m\u001b[0m\u001b[0m\n",
      "\u001b[0;31mNameError\u001b[0m: name 'epsilon_greedy_3' is not defined"
     ]
    }
   ],
   "source": [
    "num_tests, runs, num_games = 3, 5, 10 # Meta parameters\n",
    "testing = []\n",
    "for i in range(num_tests):\n",
    "    print(f'Testing => Test {i+1}')\n",
    "    percentages = []\n",
    "    for j in range(runs):\n",
    "        outcomes = []\n",
    "        for k in range(num_games):\n",
    "            state, boxes, score, done = [0]*24, [0]*9, [0]*2, False\n",
    "            turn = True\n",
    "            move, _ = epsilon_greedy_3(state, g.valid_moves, Qnet_best, 0, turn)\n",
    "            while not done:\n",
    "                state_next = g.make_move(state, move)\n",
    "                created, boxes = g.box_created(state_next, boxes)\n",
    "                if created > 0:\n",
    "                    if turn:\n",
    "                        score[0] += created\n",
    "                    else:\n",
    "                        score[1] += created\n",
    "                else:\n",
    "                    turn = not turn\n",
    "                if 0 not in state_next:\n",
    "                    r = 1 if score[0] > score[1] else -1\n",
    "                    outcome, done = r, True\n",
    "                    move_next, Qnext = -1, 0\n",
    "                else:\n",
    "                    move_next, Qnext = epsilon_greedy_3(state_next, g.valid_moves, Qnet_best, 0, turn)\n",
    "                state, move = state_next, move_next\n",
    "            outcomes.append(outcome)\n",
    "        #print(outcomes)\n",
    "        percentages.append(sum(outcomes[k] == -1 for k in range(len(outcomes)))/num_games*100)\n",
    "    testing.append(sum(percentages)/runs)\n",
    "    print(f'Finished test {i+1}; Percent: {testing[-1]}')"
   ]
  },
  {
   "cell_type": "code",
   "execution_count": null,
   "metadata": {},
   "outputs": [],
   "source": [
    "state, turn = [0]*24, False\n",
    "g.print_game(state)"
   ]
  },
  {
   "cell_type": "code",
   "execution_count": null,
   "metadata": {},
   "outputs": [],
   "source": [
    "move, _ = epsilon_greedy_2(state, g.valid_moves, Qnet_best, Qnets[1], 0, turn)\n",
    "g.print_game(g.make_move(state, move))"
   ]
  },
  {
   "cell_type": "code",
   "execution_count": null,
   "metadata": {},
   "outputs": [],
   "source": [
    "state, turn = [1, 1, 1, 1, 1, 0, 0, 0, 1, 0, 0, 0, 1, 0, 0, 1, 0, 0, 0, 1, 0, 0, 0, 0], False\n",
    "g.print_game(state)"
   ]
  },
  {
   "cell_type": "code",
   "execution_count": null,
   "metadata": {},
   "outputs": [],
   "source": [
    "move, _ = epsilon_greedy_2(state, g.valid_moves, Qnet_best, Qnets[1], 0, turn)\n",
    "g.print_game(g.make_move(state, move))\n",
    "state = g.make_move(state, move)"
   ]
  },
  {
   "cell_type": "code",
   "execution_count": null,
   "metadata": {},
   "outputs": [],
   "source": [
    "move, _ = epsilon_greedy_2(state, g.valid_moves, Qnet_best, Qnets[1], 0, turn)\n",
    "g.print_game(g.make_move(state, move))"
   ]
  },
  {
   "cell_type": "code",
   "execution_count": null,
   "metadata": {},
   "outputs": [],
   "source": [
    "state, turn = [1, 0, 0, 0, 1, 0, 0, 0, 1, 0, 1, 1, 1, 1, 1, 1, 1, 1, 0, 1, 1, 1, 0, 0], False\n",
    "g.print_game(state)"
   ]
  },
  {
   "cell_type": "code",
   "execution_count": null,
   "metadata": {},
   "outputs": [],
   "source": [
    "move, _ = epsilon_greedy_2(state, g.valid_moves, Qnet_best, Qnets[1], 0, turn)\n",
    "g.print_game(g.make_move(state, move))\n",
    "state = g.make_move(state, move)"
   ]
  },
  {
   "cell_type": "code",
   "execution_count": null,
   "metadata": {},
   "outputs": [],
   "source": [
    "move, _ = epsilon_greedy_2(state, g.valid_moves, Qnet_best, Qnets[1], 0, turn)\n",
    "g.print_game(g.make_move(state, move))\n",
    "state = g.make_move(state, move)"
   ]
  },
  {
   "cell_type": "code",
   "execution_count": null,
   "metadata": {},
   "outputs": [],
   "source": [
    "move, _ = epsilon_greedy_2(state, g.valid_moves, Qnet_best, Qnets[1], 0, turn)\n",
    "g.print_game(g.make_move(state, move))\n",
    "state = g.make_move(state, move)"
   ]
  },
  {
   "cell_type": "code",
   "execution_count": null,
   "metadata": {},
   "outputs": [],
   "source": [
    "move, _ = epsilon_greedy_2(state, g.valid_moves, Qnet_best, Qnets[1], 0, turn)\n",
    "g.print_game(g.make_move(state, move))\n",
    "state = g.make_move(state, move)"
   ]
  },
  {
   "cell_type": "code",
   "execution_count": 32,
   "metadata": {},
   "outputs": [],
   "source": []
  },
  {
   "cell_type": "code",
   "execution_count": 38,
   "metadata": {
    "scrolled": false
   },
   "outputs": [
    {
     "name": "stdout",
     "output_type": "stream",
     "text": [
      "Opponent move\n",
      "•   •   •   •\n",
      "\u001b[1m\u001b[91m    |\u001b[0m\n",
      "•   •   •   •\n",
      "\n",
      "•   •   •   •\n",
      "\n",
      "•   •   •   •\n",
      "\n",
      "Agent move\n",
      "•   •   •   •\n",
      "    |\n",
      "•   •   •   •\n",
      "\n",
      "•   •   •   •\n",
      "\u001b[1m\u001b[91m            |\u001b[0m\n",
      "•   •   •   •\n",
      "\n",
      "Opponent move\n",
      "•   •   •   •\n",
      "    |\n",
      "•   •   •   •\n",
      "\u001b[1m\u001b[91m|\u001b[0m\n",
      "•   •   •   •\n",
      "            |\n",
      "•   •   •   •\n",
      "\n",
      "Agent move\n",
      "•   •   •   •\n",
      "\u001b[1m\u001b[91m|\u001b[0m   |\n",
      "•   •   •   •\n",
      "|\n",
      "•   •   •   •\n",
      "            |\n",
      "•   •   •   •\n",
      "\n",
      "Opponent move\n",
      "•   •   •   •\n",
      "|   |\u001b[1m\u001b[91m   |\u001b[0m\n",
      "•   •   •   •\n",
      "|\n",
      "•   •   •   •\n",
      "            |\n",
      "•   •   •   •\n",
      "\n",
      "Agent move\n",
      "•   •   •   •\n",
      "|   |   |\u001b[1m\u001b[91m   |\u001b[0m\n",
      "•   •   •   •\n",
      "|\n",
      "•   •   •   •\n",
      "            |\n",
      "•   •   •   •\n",
      "\n",
      "Opponent move\n",
      "•   •   •   •\n",
      "|   |   |   |\n",
      "•   •   •   •\n",
      "|\n",
      "•   •   •   •\n",
      "\u001b[1m\u001b[91m        |\u001b[0m   |\n",
      "•   •   •   •\n",
      "\n",
      "Agent move\n",
      "•   •   •   •\n",
      "|   |   |   |\n",
      "•   •   •\u001b[1m\u001b[91m---\u001b[0m•\n",
      "|\n",
      "•   •   •   •\n",
      "        |   |\n",
      "•   •   •   •\n",
      "\n",
      "Opponent move\n",
      "•   •   •   •\n",
      "|   |   |   |\n",
      "•   •   •---•\n",
      "|\n",
      "•   •   •   •\n",
      "        |   |\n",
      "•\u001b[1m\u001b[91m---\u001b[0m•   •   •\n",
      "\n",
      "Agent move\n",
      "•   •   •\u001b[1m\u001b[91m---\u001b[0m•\n",
      "|   |   |   |\n",
      "•   •   •---•\n",
      "|\n",
      "•   •   •   •\n",
      "        |   |\n",
      "•---•   •   •\n",
      "\n",
      "Agent move\n",
      "•   •   •---•\n",
      "|   |   |   |\n",
      "•   •   •---•\n",
      "|\n",
      "•   •   •\u001b[1m\u001b[91m---\u001b[0m•\n",
      "        |   |\n",
      "•---•   •   •\n",
      "\n",
      "Opponent move\n",
      "•   •   •---•\n",
      "|   |   |   |\n",
      "•   •\u001b[1m\u001b[91m---\u001b[0m•---•\n",
      "|\n",
      "•   •   •---•\n",
      "        |   |\n",
      "•---•   •   •\n",
      "\n",
      "Agent move\n",
      "•   •   •---•\n",
      "|   |   |   |\n",
      "•   •---•---•\n",
      "|\n",
      "•   •   •---•\n",
      "\u001b[1m\u001b[91m    |\u001b[0m   |   |\n",
      "•---•   •   •\n",
      "\n",
      "Opponent move\n",
      "•   •   •---•\n",
      "|   |   |   |\n",
      "•   •---•---•\n",
      "|\u001b[1m\u001b[91m       |\u001b[0m\n",
      "•   •   •---•\n",
      "    |   |   |\n",
      "•---•   •   •\n",
      "\n",
      "Agent move\n",
      "•   •   •---•\n",
      "|   |   |   |\n",
      "•   •---•---•\n",
      "|       |\n",
      "•   •   •---•\n",
      "    |   |   |\n",
      "•---•   •\u001b[1m\u001b[91m---\u001b[0m•\n",
      "\n",
      "Agent move\n",
      "•   •\u001b[1m\u001b[91m---\u001b[0m•---•\n",
      "|   |   |   |\n",
      "•   •---•---•\n",
      "|       |\n",
      "•   •   •---•\n",
      "    |   |   |\n",
      "•---•   •---•\n",
      "\n",
      "Agent move\n",
      "•   •---•---•\n",
      "|   |   |   |\n",
      "•   •---•---•\n",
      "|       |\u001b[1m\u001b[91m   |\u001b[0m\n",
      "•   •   •---•\n",
      "    |   |   |\n",
      "•---•   •---•\n",
      "\n",
      "Agent move\n",
      "•   •---•---•\n",
      "|   |   |   |\n",
      "•   •---•---•\n",
      "|\u001b[1m\u001b[91m   |\u001b[0m   |   |\n",
      "•   •   •---•\n",
      "    |   |   |\n",
      "•---•   •---•\n",
      "\n",
      "Opponent move\n",
      "•   •---•---•\n",
      "|   |   |   |\n",
      "•   •---•---•\n",
      "|   |   |   |\n",
      "•   •\u001b[1m\u001b[91m---\u001b[0m•---•\n",
      "    |   |   |\n",
      "•---•   •---•\n",
      "\n",
      "Opponent move\n",
      "•   •---•---•\n",
      "|   |   |   |\n",
      "•   •---•---•\n",
      "|   |   |   |\n",
      "•   •---•---•\n",
      "\u001b[1m\u001b[91m|\u001b[0m   |   |   |\n",
      "•---•   •---•\n",
      "\n",
      "Agent move\n",
      "•   •---•---•\n",
      "|   |   |   |\n",
      "•   •---•---•\n",
      "|   |   |   |\n",
      "•\u001b[1m\u001b[91m---\u001b[0m•---•---•\n",
      "|   |   |   |\n",
      "•---•   •---•\n",
      "\n",
      "Agent move\n",
      "•   •---•---•\n",
      "|   |   |   |\n",
      "•   •---•---•\n",
      "|   |   |   |\n",
      "•---•---•---•\n",
      "|   |   |   |\n",
      "•---•\u001b[1m\u001b[91m---\u001b[0m•---•\n",
      "\n",
      "Agent move\n",
      "•\u001b[1m\u001b[91m---\u001b[0m•---•---•\n",
      "|   |   |   |\n",
      "•   •---•---•\n",
      "|   |   |   |\n",
      "•---•---•---•\n",
      "|   |   |   |\n",
      "•---•---•---•\n",
      "\n",
      "Opponent move\n",
      "•---•---•---•\n",
      "|   |   |   |\n",
      "•\u001b[1m\u001b[91m---\u001b[0m•---•---•\n",
      "|   |   |   |\n",
      "•---•---•---•\n",
      "|   |   |   |\n",
      "•---•---•---•\n",
      "\n",
      "Score:\n",
      "Opponent: 3\tAgent: 6\n"
     ]
    }
   ],
   "source": [
    "game = []\n",
    "state, boxes, score, done = [0]*24, [0]*9, [0]*2, False\n",
    "turn = True\n",
    "move, _ = epsilon_greedy_2(state, g.valid_moves, Qnet_best, Qnets[1], 0, turn)\n",
    "while not done:\n",
    "    state_next = g.make_move(state, move)\n",
    "    if turn:\n",
    "        print('Opponent move')\n",
    "    else:\n",
    "        print('Agent move')\n",
    "    g.print_game(state_next, move)\n",
    "    print()\n",
    "    created, boxes = g.box_created(state_next, boxes)\n",
    "    if created > 0:\n",
    "        if turn:\n",
    "            score[0] += created\n",
    "        else:\n",
    "            score[1] += created\n",
    "    else:\n",
    "        turn = not turn\n",
    "    if 0 not in state_next:\n",
    "        r = 1 if score[0] > score[1] else -1\n",
    "        outcome, done = r, True\n",
    "        move_next, Qnext = -1, 0\n",
    "    else:\n",
    "        move_next, Qnext = epsilon_greedy_2(state_next, g.valid_moves, Qnet_best, Qnets[1], 0, turn)\n",
    "    state, move = state_next, move_next\n",
    "print(f'Score:\\nOpponent: {score[0]}\\tAgent: {score[1]}')"
   ]
  },
  {
   "cell_type": "code",
   "execution_count": null,
   "metadata": {},
   "outputs": [],
   "source": []
  },
  {
   "cell_type": "code",
   "execution_count": 99,
   "metadata": {},
   "outputs": [],
   "source": [
    "state = [0]*24\n",
    "#state[1], state[13], state[14] = 1, 1, 1\n",
    "#state[5], state[18], state[8] = 1, 1, 1\n",
    "state[16], state[17] = 1, 1\n",
    "state[21], state[22] = 1, 1\n",
    "state[1], state[13] = 1, 1\n",
    "state[5], state[18] = 1, 1\n",
    "state[12], state[20], state[2], state[23] = 0, 1, 1, 1"
   ]
  },
  {
   "cell_type": "code",
   "execution_count": 100,
   "metadata": {},
   "outputs": [
    {
     "data": {
      "text/plain": [
       "[0, 3, 4, 6, 7, 8, 9, 10, 11, 12, 14, 15, 19]"
      ]
     },
     "execution_count": 100,
     "metadata": {},
     "output_type": "execute_result"
    }
   ],
   "source": [
    "moves = g.valid_moves(state)\n",
    "moves"
   ]
  },
  {
   "cell_type": "code",
   "execution_count": 101,
   "metadata": {},
   "outputs": [
    {
     "name": "stdout",
     "output_type": "stream",
     "text": [
      "•   •---•---•\n",
      "    |\n",
      "•   •   •---•\n",
      "|   |   |\n",
      "•   •   •   •\n",
      "|   |   |   |\n",
      "•   •   •   •\n"
     ]
    }
   ],
   "source": [
    "g.print_game(state)"
   ]
  },
  {
   "cell_type": "code",
   "execution_count": 110,
   "metadata": {},
   "outputs": [],
   "source": [
    "def get_move_heuristic(state, moves):\n",
    "    boxes_edges_index = g.boxes_edges_index_generate() # Generate index of all edges for all boxes\n",
    "    boxes_edges, boxes_3s, boxes_2s = [], [], []\n",
    "    for box_edges in boxes_edges_index: # Generate binary 0/1 of whether each edge in index exists in state\n",
    "        boxes_edges.append([state[i] for i in box_edges])\n",
    "    for i in range(len(boxes_edges)):\n",
    "        if sum(boxes_edges[i]) == 3: # Find boxes with 3 edges completed\n",
    "            boxes_3s.append(i)\n",
    "        if sum(boxes_edges[i]) == 2: # Find boxes with 2 edges completed\n",
    "            boxes_2s.append(i)\n",
    "    moves_3s = [boxes_edges_index[box_3s][boxes_edges[box_3s].index(0)] for box_3s in boxes_3s] # List all available moves in boxes with 3 edges complete\n",
    "    moves_2s = list(set([i for x in [[boxes_edges_index[i][j] for j in list(np.where(np.array(boxes_edges[i]) == 0)[0])] for i in boxes_2s] for i in x])) # List all available moves in boxes with 2 edges complete\n",
    "    if len(boxes_3s) > 0: # If there are boxes with 3 edges complete, choose a move from those\n",
    "        move = random.choice(moves_3s)\n",
    "    elif len(boxes_2s) > 0: # If there are boxes with 2 edges complete, try not to choose a move from those\n",
    "        avail_moves = [m for m in moves if m not in moves_2s] # Check if there are available moves to not make a 3rd edge to a 2-edge box\n",
    "        move = random.choice(avail_moves) if len(avail_moves) > 0 else random.choice(moves)\n",
    "    else: # Else choose a move at random\n",
    "        move = random.choice(moves)\n",
    "    return move"
   ]
  },
  {
   "cell_type": "code",
   "execution_count": 129,
   "metadata": {
    "scrolled": true
   },
   "outputs": [
    {
     "data": {
      "text/plain": [
       "0"
      ]
     },
     "execution_count": 129,
     "metadata": {},
     "output_type": "execute_result"
    }
   ],
   "source": [
    "get_move_heuristic(state, moves)"
   ]
  },
  {
   "cell_type": "code",
   "execution_count": null,
   "metadata": {},
   "outputs": [],
   "source": []
  }
 ],
 "metadata": {
  "kernelspec": {
   "display_name": "Python 3",
   "language": "python",
   "name": "python3"
  },
  "language_info": {
   "codemirror_mode": {
    "name": "ipython",
    "version": 3
   },
   "file_extension": ".py",
   "mimetype": "text/x-python",
   "name": "python",
   "nbconvert_exporter": "python",
   "pygments_lexer": "ipython3",
   "version": "3.8.3"
  }
 },
 "nbformat": 4,
 "nbformat_minor": 4
}
